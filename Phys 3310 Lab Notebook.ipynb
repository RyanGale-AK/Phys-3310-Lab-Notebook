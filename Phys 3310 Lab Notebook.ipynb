{
 "cells": [
  {
   "cell_type": "markdown",
   "metadata": {},
   "source": [
    "# PHYS 3310 Lab Notebook\n",
    "## Ryan Gale"
   ]
  },
  {
   "cell_type": "markdown",
   "metadata": {},
   "source": [
    "## Table of Contents\n",
    "#### Lab 1: Transmission Lines and Radiation Resistance\n",
    "1. Lab Setup 1/24/19 \n",
    "2. Capacitor Impedance Data Collection 1/29/19\n",
    "3. Transmission Line Data Collection 1/31/19\n",
    "4. Antenna Radiation Resistance Data Collection 1/31/19\n"
   ]
  },
  {
   "cell_type": "markdown",
   "metadata": {},
   "source": [
    "## Lab 1: Transmission Lines and Radiation Resistance\n",
    "\n",
    "### 1 Lab Setup"
   ]
  },
  {
   "cell_type": "markdown",
   "metadata": {},
   "source": [
    "Starting up the Vector Network Analyzer (VNA):\n",
    "Calibrate -> Create\n",
    "Read Open -> Update\n",
    "Now the VNA is calibrated, we can connect a device via the Device Under Test input\n",
    "To read the device analysis press Single.  Use Freerun to produce live data.\n",
    "\n",
    "The transmission line was measured at 214 +/- 1 cm long as opposed to the 614 cm stated in the introductory notes.\n",
    "There are interesting peaks in the observed impedance vs frequency. \n",
    "\n",
    "Final Thoughts:\n",
    "I need to read Bekefi and Barrett to learn more about this impedance behavior..."
   ]
  },
  {
   "cell_type": "markdown",
   "metadata": {},
   "source": [
    "### 2 Capacitor Impedance Data Collection"
   ]
  },
  {
   "cell_type": "markdown",
   "metadata": {},
   "source": [
    "#### Alligator Clips\n",
    "\n",
    "Alligator clips display a decaying reactance and resistance approaching very high frequencies as we expect.  However neither are strictly decreasing from small frequency, there is a peak in both measurements.  I am not sure what this peak is from, maybe the poor connection of the alligator clip is causing interference in the circuit.  I will investigate further.\n",
    "\n",
    "Here are the observed Resistance and Reactance of the 56 +/- 5% picofarad capacitor. Batch one of measurements produced the following:\n",
    "\n",
    "<img src=\"Alligator Clip.jpg\" alt=\"drawing\" width=\"500\"/>\n",
    "\n",
    "Because these results do not follow the expected $X=\\frac{1}{\\omega C}$ relation.  At certain frequency ranges lengths of wire can exhibit inductor behavior and these peak locations correspond to the length of wire exposed (due to where I connect the alligator clips.\n",
    "\n",
    "I need to remeasure these results along with the length of exposed wire to determine the expected resonance...\n",
    "\n",
    "Taking a 2 +/- 0.1 cm wire exposed between the capacitor and the alligator clips produced the following:\n",
    "\n",
    "<img src=\"inductor1.jpg\" alt=\"drawing\" width=\"500\"/>\n",
    "\n",
    "\n",
    "#### Binding Posts\n",
    "I predict that the binding post attachment will give the best results because it provides a stronger connection between the circuit elements.\n",
    "\n",
    "Here are the results I observed:\n",
    "\n",
    "<img src=\"Binding Posts.jpg\" alt=\"drawing\" width=\"500\"/>\n",
    "\n",
    "The fluctuation in resistance is due to such a low frequency.  The reactance is clearly the main contributor to impedance.  Although it appears to be following the expected $X=\\frac{1}{\\omega C}$ relation well, at around 150 MHz the Reactance mysteriously increases.  I believe this may be new physics outside of the domain described by the above equation.  Further exploration to ensue."
   ]
  },
  {
   "cell_type": "markdown",
   "metadata": {},
   "source": [
    "### 3 Transmission Line Data Collection"
   ]
  },
  {
   "cell_type": "markdown",
   "metadata": {},
   "source": [
    "After calibrating the VNA I attached the 214 +/- 1 cm long transmission line and read the following impedance with an open end:\n",
    "\n",
    "<img src=\"tran line open1.jpg\" alt=\"drawing\" width=\"500\"/>\n",
    "\n",
    "These results are intuitive, after reaching the end of the line the current is reflected and causes interference.  The distance between interference spikes look evenly spaced from afar but I hope to quantify this when I do my analysis.\n",
    "\n",
    "With a closed end to ground I predict the interference pattern will be gone.  My results verify my intuition:\n",
    "\n",
    "<img src=\"Tran line closed1.jpg\" alt=\"drawing\" width=\"500\"/>\n",
    "\n",
    "This data looks very good to me, the oscillation frequency looks fairly constant with decay in amplitude (due to energy loss).  "
   ]
  },
  {
   "cell_type": "markdown",
   "metadata": {},
   "source": [
    "### 4 Antenna Radiation Resistance Data Collection\n",
    "To isolate the antenna from metal I placed it ontop of a cardboard box near the window behind the lab computer.  The results looked a lot better than the ones I observed on top of the transmission line coil.  \n",
    "\n",
    "#### Folded Up Configuration\n",
    "\n",
    "For this orientation I measured 3 +/-0.1 cm separation at the base and 7.4 +/- 0.1 cm separation at the top.  The impedance and resistance both peaked around 120. MHz but otherwise showed a similar decay as the capacitor with binding posts.  \n",
    "\n",
    "<img src=\"up1.jpg\" alt=\"drawing\" width=\"500\"/>\n",
    "\n",
    "\n",
    "#### Spread Out Configuration\n",
    "\n",
    "Spreading out the antennas showed a decrease in the resonance peak.  It spread out and shows why it's very hard to pick up a radio signal on a poorly configured antenna.  \n",
    "\n",
    "<img src=\"out R+Z1.jpg\" alt=\"drawing\" width=\"500\"/>\n",
    "\n",
    "<img src=\"out R+X1.jpg\" alt=\"drawing\" width=\"500\"/>\n",
    "\n",
    "The resonance appears to be around 75 MHz (where the reactance, 2nd plot, goes to zero)."
   ]
  }
 ],
 "metadata": {
  "kernelspec": {
   "display_name": "Python 3",
   "language": "python",
   "name": "python3"
  },
  "language_info": {
   "codemirror_mode": {
    "name": "ipython",
    "version": 3
   },
   "file_extension": ".py",
   "mimetype": "text/x-python",
   "name": "python",
   "nbconvert_exporter": "python",
   "pygments_lexer": "ipython3",
   "version": "3.6.5"
  }
 },
 "nbformat": 4,
 "nbformat_minor": 2
}
