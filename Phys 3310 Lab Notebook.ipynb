{
 "cells": [
  {
   "cell_type": "markdown",
   "metadata": {},
   "source": [
    "# PHYS 3310 Lab Notebook"
   ]
  },
  {
   "cell_type": "markdown",
   "metadata": {},
   "source": [
    "## Table of Contents\n",
    "1. Lab Setup 1/24/19 "
   ]
  },
  {
   "cell_type": "markdown",
   "metadata": {},
   "source": [
    "### 1 Lab Setup"
   ]
  },
  {
   "cell_type": "markdown",
   "metadata": {},
   "source": [
    "Starting up the Vector Network Analyzer (VNA):\n",
    "Calibrate -> Create\n",
    "Read Open -> Update\n",
    "Now the VNA is calibrated, we can connect a device via the Device Under Test input\n",
    "To read the device analysis press Single.  Use Freerun to produce live data.\n",
    "\n",
    "The transmission line was measured at 214 +/- 1 cm long as opposed to the 614 cm stated in the introductory notes.\n",
    "There are interesting peaks in the observed impedance vs frequency. \n",
    "\n",
    "Final Thoughts:\n",
    "I need to read Bekefi and Barrett to learn more about this impedance behavior..."
   ]
  }
 ],
 "metadata": {
  "kernelspec": {
   "display_name": "Python 3",
   "language": "python",
   "name": "python3"
  },
  "language_info": {
   "codemirror_mode": {
    "name": "ipython",
    "version": 3
   },
   "file_extension": ".py",
   "mimetype": "text/x-python",
   "name": "python",
   "nbconvert_exporter": "python",
   "pygments_lexer": "ipython3",
   "version": "3.6.5"
  }
 },
 "nbformat": 4,
 "nbformat_minor": 2
}
