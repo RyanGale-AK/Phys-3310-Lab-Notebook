{
 "cells": [
  {
   "cell_type": "markdown",
   "metadata": {},
   "source": [
    "# PHYS 3310 Lab Notebook\n",
    "## Ryan Gale"
   ]
  },
  {
   "cell_type": "markdown",
   "metadata": {},
   "source": [
    "## Table of Contents\n",
    "#### Lab 1: Transmission Lines and Radiation Resistance\n",
    "1. Lab Setup 1/24/19 \n",
    "2. Capacitor Impedance Data Collection 1/29/19\n",
    "3. Transmission Line Data Collection 1/31/19\n",
    "4. Antenna Radiation Resistance Data Collection 1/31/19\n",
    "5. Capacitor Error Analysis 2/5/19 \n",
    "6. Transmission Line Error Analysis 2/7/2019"
   ]
  },
  {
   "cell_type": "markdown",
   "metadata": {},
   "source": [
    "## Lab 1: Transmission Lines and Radiation Resistance\n",
    "\n",
    "### 1 Lab Setup"
   ]
  },
  {
   "cell_type": "markdown",
   "metadata": {},
   "source": [
    "Starting up the Vector Network Analyzer (VNA):\n",
    "Calibrate -> Create\n",
    "Read Open -> Update\n",
    "Now the VNA is calibrated, we can connect a device via the Device Under Test input\n",
    "To read the device analysis press Single.  Use Freerun to produce live data.\n",
    "\n",
    "The transmission line was measured at 214 +/- 1 cm long as opposed to the 614 cm stated in the introductory notes.\n",
    "There are interesting peaks in the observed impedance vs frequency. \n",
    "\n",
    "Final Thoughts:\n",
    "I need to read Bekefi and Barrett to learn more about this impedance behavior..."
   ]
  },
  {
   "cell_type": "markdown",
   "metadata": {},
   "source": [
    "### 2 Capacitor Impedance Data Collection"
   ]
  },
  {
   "cell_type": "markdown",
   "metadata": {},
   "source": [
    "#### Alligator Clips\n",
    "\n",
    "Alligator clips display a decaying reactance and resistance approaching very high frequencies as we expect.  However neither are strictly decreasing from small frequency, there is a peak in both measurements.  I am not sure what this peak is from, maybe the poor connection of the alligator clip is causing interference in the circuit.  I will investigate further.\n",
    "\n",
    "Here are the observed Resistance and Reactance of the 56 +/- 5% picofarad capacitor. Batch one of measurements produced the following:\n",
    "\n",
    "<img src=\"Alligator Clip.jpg\" alt=\"drawing\" width=\"500\"/>\n",
    "\n",
    "Because these results do not follow the expected $X=\\frac{1}{\\omega C}$ relation.  At certain frequency ranges lengths of wire can exhibit inductor behavior and these peak locations correspond to the length of wire exposed (due to where I connect the alligator clips.\n",
    "\n",
    "I need to remeasure these results along with the length of exposed wire to determine the expected resonance...\n",
    "\n",
    "Taking a 2 +/- 0.1 cm wire exposed between the capacitor and the alligator clips produced the following:\n",
    "\n",
    "<img src=\"inductor1.jpg\" alt=\"drawing\" width=\"500\"/>\n",
    "\n",
    "\n",
    "#### Binding Posts\n",
    "I predict that the binding post attachment will give the best results because it provides a stronger connection between the circuit elements.\n",
    "\n",
    "Here are the results I observed:\n",
    "\n",
    "<img src=\"Binding Posts.jpg\" alt=\"drawing\" width=\"500\"/>\n",
    "\n",
    "The fluctuation in resistance is due to such a low frequency.  The reactance is clearly the main contributor to impedance.  Although it appears to be following the expected $X=\\frac{1}{\\omega C}$ relation well, at around 150 MHz the Reactance mysteriously increases.  I believe this may be new physics outside of the domain described by the above equation.  Further exploration to ensue."
   ]
  },
  {
   "cell_type": "markdown",
   "metadata": {},
   "source": [
    "### 3 Transmission Line Data Collection"
   ]
  },
  {
   "cell_type": "markdown",
   "metadata": {},
   "source": [
    "After calibrating the VNA I attached the 214 +/- 1 cm long transmission line and read the following impedance with an open end:\n",
    "\n",
    "<img src=\"tran line open1.jpg\" alt=\"drawing\" width=\"500\"/>\n",
    "\n",
    "These results are intuitive, after reaching the end of the line the current is reflected and causes interference.  The distance between interference spikes look evenly spaced from afar but I hope to quantify this when I do my analysis.\n",
    "\n",
    "With a 50 +/-0.5 Ohm resistor I predict the interference pattern will be gone and we get a sinusoidal wave (predicted by Bekefi and Barrett pg 348-349).  My results verify my intuition:\n",
    "\n",
    "<img src=\"Tran line closed1.jpg\" alt=\"drawing\" width=\"500\"/>\n",
    "\n",
    "This data looks very good to me, the oscillation frequency looks fairly constant with decay in amplitude (due to energy loss).  \n",
    "\n",
    "Next I hope to collect data on a shorted transmission line.  Bekefi and Barrett predict a tan function (pg 349) and this is what I'm getting:\n",
    "\n",
    "<img src=\"tran line shorted.jpg\" alt=\"drawing\" width=\"500\"/>\n",
    "\n",
    "This looks a lot like the $Z_L=jZ_0 tan(kl)$ relation predicted by theorists.  I will need to compute the variance to get more precise correlation (see error analysis section).\n"
   ]
  },
  {
   "cell_type": "markdown",
   "metadata": {},
   "source": [
    "### 4 Antenna Radiation Resistance Data Collection\n",
    "To isolate the antenna from metal I placed it ontop of a cardboard box near the window behind the lab computer.  The results looked a lot better than the ones I observed on top of the transmission line coil.  \n",
    "\n",
    "#### Folded Up Configuration\n",
    "\n",
    "For this orientation I measured 3 +/-0.1 cm separation at the base and 7.4 +/- 0.1 cm separation at the top.  The impedance and resistance both peaked around 120. MHz but otherwise showed a similar decay as the capacitor with binding posts.  \n",
    "\n",
    "<img src=\"up1.jpg\" alt=\"drawing\" width=\"500\"/>\n",
    "\n",
    "\n",
    "#### Spread Out Configuration\n",
    "\n",
    "Spreading out the antennas showed a decrease in the resonance peak.  It spread out and shows why it's very hard to pick up a radio signal on a poorly configured antenna.  \n",
    "\n",
    "<img src=\"out R+Z1.jpg\" alt=\"drawing\" width=\"500\"/>\n",
    "\n",
    "<img src=\"out R+X1.jpg\" alt=\"drawing\" width=\"500\"/>\n",
    "\n",
    "The resonance appears to be around 75 MHz (where the reactance, 2nd plot, goes to zero)."
   ]
  },
  {
   "cell_type": "markdown",
   "metadata": {},
   "source": [
    "### 5 Capacitor Error Analysis"
   ]
  },
  {
   "cell_type": "markdown",
   "metadata": {},
   "source": [
    "First I will investigate the variance of the reactance of the capacitor.  My plot below (red line is reactance):\n",
    "\n",
    "<img src=\"Binding Posts.jpg\" alt=\"drawing\" width=\"400\"/>\n"
   ]
  },
  {
   "cell_type": "code",
   "execution_count": 1,
   "metadata": {
    "scrolled": true
   },
   "outputs": [
    {
     "data": {
      "text/plain": [
       "['Frequency', ' Return_Loss', ' Phase', ' Rs', ' SWR', ' Xs', ' Z']"
      ]
     },
     "execution_count": 1,
     "metadata": {},
     "output_type": "execute_result"
    }
   ],
   "source": [
    "import math\n",
    "import csv\n",
    "f = open('binding_post_reactance.csv', 'r', encoding=\"utf8\")\n",
    "reader = csv.reader(f)\n",
    "headers = next(reader, None)\n",
    "headers"
   ]
  },
  {
   "cell_type": "code",
   "execution_count": 2,
   "metadata": {},
   "outputs": [],
   "source": [
    "# format and convert necessary data points to float\n",
    "column = {}\n",
    "for h in headers:\n",
    "    column[h] = []\n",
    "\n",
    "column\n",
    "for row in reader:\n",
    "    for h, v in zip(headers, row):\n",
    "        column[h].append(v)\n",
    "\n",
    "freq = []\n",
    "for f in column['Frequency']:\n",
    "    freq.append(float(f))\n",
    "\n",
    "X = []\n",
    "for x in column[' Xs']:\n",
    "    X.append(float(x))\n",
    "\n",
    "theory = []\n",
    "for f in freq:\n",
    "    theory.append(1./(2*math.pi*56*10**(-12)*f))\n",
    "    \n",
    "# The 56pf capacitor has 5% error so let's see what the upper and lower bound plots look like\n",
    "upper = []\n",
    "for f in freq:\n",
    "    upper.append(1./(2*math.pi*(56+.05*56)*10**(-12)*f))\n",
    "    \n",
    "lower = []\n",
    "for f in freq:\n",
    "    lower.append(1./(2*math.pi*(56-.05*56)*10**(-12)*f))"
   ]
  },
  {
   "cell_type": "code",
   "execution_count": 3,
   "metadata": {},
   "outputs": [],
   "source": [
    "# the low and high end frequency values produced reactance that greatly varied from theory. \n",
    "# I adjust my sample space to the data points that look closest to an inverse relation.\n",
    "freq = freq[25:]\n",
    "X = X[25:]\n",
    "theory = theory[25:]\n",
    "upper = upper[25:]\n",
    "lower = lower[25:]"
   ]
  },
  {
   "cell_type": "code",
   "execution_count": 4,
   "metadata": {
    "scrolled": true
   },
   "outputs": [
    {
     "data": {
      "text/plain": [
       "<matplotlib.legend.Legend at 0x11409e5c0>"
      ]
     },
     "execution_count": 4,
     "metadata": {},
     "output_type": "execute_result"
    }
   ],
   "source": [
    "import matplotlib.patches as mpatches\n",
    "import matplotlib.pyplot as p\n",
    "p.ylim(0, 600)\n",
    "p.ylabel('$X$')\n",
    "p.xlabel('$f$')\n",
    "p.suptitle('$Capacitor$ $Reactance$')\n",
    "p.plot(freq, X,'blue', label='$Observed$')\n",
    "p.plot(freq, theory,'black', label='$Theory$')\n",
    "p.plot(freq, upper,'red', label='$Upper-Bound$ $Error$')\n",
    "p.plot(freq, lower,'purple', label='$Lower-Bound$ $Error$')\n",
    "\n",
    "p.legend(bbox_to_anchor=(.98, .98), loc=0, borderaxespad=0.)"
   ]
  },
  {
   "cell_type": "code",
   "execution_count": 5,
   "metadata": {},
   "outputs": [],
   "source": [
    "def variance(observed, theory):\n",
    "    observed = observed\n",
    "    theory = theory\n",
    "    ans = 0\n",
    "    for i in range(0,len(observed)):\n",
    "        ans += (observed[i] - theory[i])**2\n",
    "    return ans/len(observed)"
   ]
  },
  {
   "cell_type": "code",
   "execution_count": 6,
   "metadata": {},
   "outputs": [
    {
     "data": {
      "text/plain": [
       "2241.0431678781392"
      ]
     },
     "execution_count": 6,
     "metadata": {},
     "output_type": "execute_result"
    }
   ],
   "source": [
    "variance(X,theory)"
   ]
  },
  {
   "cell_type": "markdown",
   "metadata": {},
   "source": [
    "Theory predicts a relation $X=\\frac{1}{\\omega C}$ and the observed variance does not match!  There is an inductor effect in the wire connecting the capacitor and VNA.  We can see this resonance start to increase the reactance at 75 MHz.  To see this effect more explicitly I'll take the residual of the theory and observed measurements.  I hypothesize a roughly linear relationship for the inductor.  "
   ]
  },
  {
   "cell_type": "code",
   "execution_count": 7,
   "metadata": {},
   "outputs": [
    {
     "data": {
      "text/plain": [
       "[<matplotlib.lines.Line2D at 0x11d91e9e8>]"
      ]
     },
     "execution_count": 7,
     "metadata": {},
     "output_type": "execute_result"
    },
    {
     "data": {
      "image/png": "[encoded data removed]",
      "text/plain": [
       "<Figure size 432x288 with 1 Axes>"
      ]
     },
     "metadata": {},
     "output_type": "display_data"
    }
   ],
   "source": [
    "induced = []\n",
    "for i in range(0,len(theory)):\n",
    "    induced.append(abs(theory[i]-X[i]))\n",
    "\n",
    "p.ylabel('$X$')\n",
    "p.xlabel('$f$')\n",
    "p.suptitle('$Induced$ $Reactance$')\n",
    "p.plot(freq, induced,'black', label='$Observed$')"
   ]
  },
  {
   "cell_type": "markdown",
   "metadata": {},
   "source": [
    "### 6 Transmission Line Error Analysis"
   ]
  },
  {
   "cell_type": "markdown",
   "metadata": {},
   "source": [
    "Now I will investigate the impedance of the shorted transmission line.  My measurements below :\n",
    "\n",
    "<img src=\"tran line shorted.jpg\" alt=\"drawing\" width=\"500\"/>\n",
    "\n",
    "Theory predicts $Z_L=jZ_0 tan(kl)$ but let's see what we're getting here.  I'm taking the arctan of observation and theory to make comparison easier."
   ]
  },
  {
   "cell_type": "code",
   "execution_count": 8,
   "metadata": {},
   "outputs": [
    {
     "data": {
      "text/plain": [
       "['Frequency(Hz)', 'Return Loss(dB)', 'Phase(deg)', 'Rs', 'SWR', 'Xs', '|Z|']"
      ]
     },
     "execution_count": 8,
     "metadata": {},
     "output_type": "execute_result"
    }
   ],
   "source": [
    "f = open('shorted tran line.csv', 'r', encoding=\"utf8\")\n",
    "reader = csv.reader(f)\n",
    "headers = next(reader, None)\n",
    "headers "
   ]
  },
  {
   "cell_type": "code",
   "execution_count": 9,
   "metadata": {},
   "outputs": [],
   "source": [
    "# format and convert necessary data points to float\n",
    "column = {}\n",
    "for h in headers:\n",
    "    column[h] = []\n",
    "\n",
    "column\n",
    "for row in reader:\n",
    "    for h, v in zip(headers, row):\n",
    "        column[h].append(v)\n",
    "\n",
    "freq = []\n",
    "for f in column['Frequency(Hz)']:\n",
    "    freq.append(float(f))\n",
    "\n",
    "Z = []\n",
    "for x in column['|Z|']:\n",
    "    Z.append(float(x))\n",
    "\n",
    "theory = []\n",
    "z0 = 75.\n",
    "c = 2.99792*10**8\n",
    "L = 2.14\n",
    "for f in freq:\n",
    "    k = (2*math.pi)/(c/f)\n",
    "    theory.append(z0*abs(math.tan(k*L)))"
   ]
  },
  {
   "cell_type": "code",
   "execution_count": 11,
   "metadata": {},
   "outputs": [
    {
     "data": {
      "image/png": "[encoded data removed]",
      "text/plain": [
       "<Figure size 432x288 with 1 Axes>"
      ]
     },
     "metadata": {},
     "output_type": "display_data"
    }
   ],
   "source": [
    "p.ylim(0, 6000)\n",
    "p.ylabel('$Z$')\n",
    "p.xlabel('$f$')\n",
    "p.suptitle('$Shorted$ $Transmission$ $Line$')\n",
    "p.plot(freq, Z,'blue', label='$Observed$')\n",
    "p.plot(freq, theory,'black', label='$Theory$')\n",
    "#p.plot(freq, upper,'red', label='$Upper-Bound$ $Error$')\n",
    "#p.plot(freq, lower,'purple', label='$Lower-Bound$ $Error$')\n",
    "\n",
    "p.legend(bbox_to_anchor=(1.26, 1), loc=0, borderaxespad=0.)\n",
    "p.savefig('shorted.png',dpi=1000, bbox_inches='tight')"
   ]
  }
 ],
 "metadata": {
  "kernelspec": {
   "display_name": "Python 3",
   "language": "python",
   "name": "python3"
  },
  "language_info": {
   "codemirror_mode": {
    "name": "ipython",
    "version": 3
   },
   "file_extension": ".py",
   "mimetype": "text/x-python",
   "name": "python",
   "nbconvert_exporter": "python",
   "pygments_lexer": "ipython3",
   "version": "3.6.5"
  }
 },
 "nbformat": 4,
 "nbformat_minor": 2
}
