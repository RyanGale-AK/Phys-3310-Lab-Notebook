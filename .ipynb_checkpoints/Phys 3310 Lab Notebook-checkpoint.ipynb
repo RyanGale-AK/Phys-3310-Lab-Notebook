{
 "cells": [
  {
   "cell_type": "markdown",
   "metadata": {},
   "source": [
    "# PHYS 3310 Lab Notebook\n",
    "## Ryan Gale"
   ]
  },
  {
   "cell_type": "markdown",
   "metadata": {},
   "source": [
    "## Table of Contents\n",
    "1. Lab Setup 1/24/19 \n",
    "2. Capacitor Impedance 1/29/19"
   ]
  },
  {
   "cell_type": "markdown",
   "metadata": {},
   "source": [
    "### 1 Lab Setup"
   ]
  },
  {
   "cell_type": "markdown",
   "metadata": {},
   "source": [
    "Starting up the Vector Network Analyzer (VNA):\n",
    "Calibrate -> Create\n",
    "Read Open -> Update\n",
    "Now the VNA is calibrated, we can connect a device via the Device Under Test input\n",
    "To read the device analysis press Single.  Use Freerun to produce live data.\n",
    "\n",
    "The transmission line was measured at 214 +/- 1 cm long as opposed to the 614 cm stated in the introductory notes.\n",
    "There are interesting peaks in the observed impedance vs frequency. \n",
    "\n",
    "Final Thoughts:\n",
    "I need to read Bekefi and Barrett to learn more about this impedance behavior..."
   ]
  },
  {
   "cell_type": "markdown",
   "metadata": {},
   "source": [
    "### 2 Capacitor Impedance"
   ]
  },
  {
   "attachments": {},
   "cell_type": "markdown",
   "metadata": {},
   "source": [
    "#### Alligator Clips\n",
    "\n",
    "Alligator clips display a decaying reactance and resistance approaching very high frequencies as we expect.  However neither are strictly decreasing from small frequency, there is a peak in both measurements.  I am not sure what this peak is from, maybe the poor connection of the alligator clip is causing interference in the circuit.  I will investigate further.\n",
    "\n",
    "Here are the observed Resistance and Reactance of the 56 +/- 5% picofarad capacitor. Batch one of measurements produced the following:\n",
    "\n",
    "<img src=\"Alligator Clip.jpg\" alt=\"drawing\" width=\"500\"/>\n",
    "\n",
    "Because these results do not follow the expected $X=\\frac{1}{\\omega C}$ relation I need to dig deeper.\n",
    "\n",
    "\n",
    "\n",
    "#### Binding Posts\n",
    "I predict that the binding post attachment will give the best results because it provides a stronger connection between the circuit elements.\n",
    "\n",
    "Here are the results I observed:\n",
    "\n",
    "<img src=\"Binding Posts.jpg\" alt=\"drawing\" width=\"500\"/>\n",
    "\n",
    "The fluctuation in resistance is due to such a low frequency"
   ]
  },
  {
   "cell_type": "code",
   "execution_count": null,
   "metadata": {},
   "outputs": [],
   "source": []
  }
 ],
 "metadata": {
  "kernelspec": {
   "display_name": "Python 3",
   "language": "python",
   "name": "python3"
  },
  "language_info": {
   "codemirror_mode": {
    "name": "ipython",
    "version": 3
   },
   "file_extension": ".py",
   "mimetype": "text/x-python",
   "name": "python",
   "nbconvert_exporter": "python",
   "pygments_lexer": "ipython3",
   "version": "3.6.5"
  }
 },
 "nbformat": 4,
 "nbformat_minor": 2
}
